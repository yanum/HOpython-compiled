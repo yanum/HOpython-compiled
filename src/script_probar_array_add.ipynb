{
 "metadata": {
  "name": ""
 },
 "nbformat": 3,
 "nbformat_minor": 0,
 "worksheets": [
  {
   "cells": [
    {
     "cell_type": "code",
     "collapsed": false,
     "input": [
      "## scritp que pruebe todas las funciones de la libreria libarrayadd.so\n",
      "import ctypes as C\n",
      "mat=C.CDLL('./libarrayadd.so') \n",
      "mat.add_float.restype=C.c_float #le tengo que decir que tipo de resultado espero para que me pase el float obtenido en C como float en python\n",
      "# si no le digo nada me lo va a querer traer como entero o como cualquier otro tipo y me va a devolver cualquier cosa.\n",
      "mat.add_float(C.c_float(4.0),C.c_float(5.0)) # forma manual de definir de que tipo quiero que sean los parametros que la paso a C\n",
      "mat.add_float.argtypes=[C.c_float,C.c_float] # de esta forma queda definido el tipo de parametros que espera la funcion de ahora en adelante\n",
      "mat.add_float(190,10)\n",
      "\n"
     ],
     "language": "python",
     "metadata": {},
     "outputs": [
      {
       "metadata": {},
       "output_type": "pyout",
       "prompt_number": 8,
       "text": [
        "200.0"
       ]
      }
     ],
     "prompt_number": 8
    },
    {
     "cell_type": "code",
     "collapsed": false,
     "input": [
      "import ctypes as C\n",
      "mat=C.CDLL('./libarrayadd.so') \n",
      "a=C.c_int(2)\n",
      "b=C.c_int(3)\n",
      "c=C.c_int()\n",
      "mat.add_int_ref(C.byref(a),C.byref(b),C.byref(c))\n",
      "c.value # value es para que me devuelva el valor guardado en c"
     ],
     "language": "python",
     "metadata": {},
     "outputs": [
      {
       "metadata": {},
       "output_type": "pyout",
       "prompt_number": 12,
       "text": [
        "5"
       ]
      }
     ],
     "prompt_number": 12
    },
    {
     "cell_type": "code",
     "collapsed": false,
     "input": [],
     "language": "python",
     "metadata": {},
     "outputs": []
    }
   ],
   "metadata": {}
  }
 ]
}